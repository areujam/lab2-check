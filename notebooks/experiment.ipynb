{
 "cells": [
  {
   "cell_type": "code",
   "execution_count": null,
   "id": "fdd1ce1d-c2f5-4798-90bb-bee2a11a568b",
   "metadata": {},
   "outputs": [],
   "source": [
    "from src.housing import set_seed, load_dataset, train, eval, MODELS\n",
    "import matplotlib.pyplot as plt\n",
    "\n",
    "set_seed(1)\n",
    "X_train, X_test, y_train, y_test = load_dataset(test_size=0.2, random_state=1)\n",
    "\n",
    "results = {}\n",
    "for name in MODELS:\n",
    "    print(f\"Training {name}...\")\n",
    "    search = train(name, X_train, y_train, cv_splits=5, random_state=1)\n",
    "    res = eval(search, X_test, y_test)\n",
    "    results[name] = res\n",
    "    print(name, res[\"rmse\"], res[\"mae\"], res[\"r2\"])\n",
    "\n",
    "labels = list(results.keys())\n",
    "rmse_vals = [results[k][\"rmse\"] for k in labels]\n",
    "plt.bar(labels, rmse_vals)\n",
    "plt.ylabel(\"RMSE\")\n",
    "plt.title(\"Test RMSE by model\")\n",
    "plt.savefig(\"notebooks/figures/rmse.png\")\n",
    "plt.show()"
   ]
  },
  {
   "cell_type": "code",
   "execution_count": null,
   "id": "d4c9d989-7e6a-4731-8014-91a7aa7b42c6",
   "metadata": {},
   "outputs": [],
   "source": []
  }
 ],
 "metadata": {
  "kernelspec": {
   "display_name": "Python 3 (ipykernel)",
   "language": "python",
   "name": "python3"
  },
  "language_info": {
   "codemirror_mode": {
    "name": "ipython",
    "version": 3
   },
   "file_extension": ".py",
   "mimetype": "text/x-python",
   "name": "python",
   "nbconvert_exporter": "python",
   "pygments_lexer": "ipython3",
   "version": "3.12.7"
  }
 },
 "nbformat": 4,
 "nbformat_minor": 5
}
